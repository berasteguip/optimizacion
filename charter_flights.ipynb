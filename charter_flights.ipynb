{
 "cells": [
  {
   "cell_type": "markdown",
   "metadata": {},
   "source": [
    "# Charter_flights - Modelling"
   ]
  },
  {
   "cell_type": "markdown",
   "metadata": {},
   "source": [
    "## Autores:\n",
    "- Alejandro De Haro\n",
    "- Daniel Escobosa\n",
    "- Pablo Berastegui\n",
    "- Jose María Benitez\n"
   ]
  },
  {
   "cell_type": "code",
   "execution_count": null,
   "metadata": {},
   "outputs": [],
   "source": []
  },
  {
   "cell_type": "markdown",
   "metadata": {},
   "source": [
    "### Importing packages and modules\n"
   ]
  },
  {
   "cell_type": "code",
   "execution_count": 1,
   "metadata": {},
   "outputs": [],
   "source": [
    "import pyomo.environ as pe\n",
    "import pyomo.opt as po"
   ]
  },
  {
   "cell_type": "markdown",
   "metadata": {},
   "source": [
    "### Create the model"
   ]
  },
  {
   "cell_type": "markdown",
   "metadata": {},
   "source": [
    "### Order to build the model:\n",
    "1. Sets  \n",
    "2. Parameters  \n",
    "3. Variables  \n",
    "4. Objective function  \n",
    "5. Constraints  \n",
    "6. Solver definition and solve statement  \n",
    "7. Results"
   ]
  },
  {
   "cell_type": "code",
   "execution_count": 2,
   "metadata": {},
   "outputs": [],
   "source": [
    "model = pe.ConcreteModel()"
   ]
  },
  {
   "cell_type": "markdown",
   "metadata": {},
   "source": [
    "### Sets\n",
    "\n",
    "- $n \\in \\{1,2,3,4,5\\}$: **option** for the number of airplanes of a given type to charter.  \n",
    "- $t \\in \\{\\mathrm{A},\\mathrm{B},\\mathrm{C}\\}$: **aircraft type**."
   ]
  },
  {
   "cell_type": "code",
   "execution_count": 3,
   "metadata": {},
   "outputs": [],
   "source": [
    "model.n = pe.Set(initialize=[1,2,3,4,5])\n",
    "model.t = pe.Set(initialize=['A','B','C'])"
   ]
  },
  {
   "cell_type": "markdown",
   "metadata": {},
   "source": [
    "### Parameters\n",
    "\n",
    "- $c_{n,t}$ *(k€)*: **cost** associated with choosing option $n$ for aircraft type $t$.  \n",
    "- $\\mathrm{cap}_t$ *(pax/plane)*: **seat capacity** per airplane of type $t$.  \n",
    "- $P$ *(pax)*: **total passenger demand** to be satisfied.  \n",
    "- $FC$ *(k€)*: **fixed cost per selected option** (common add-on applied when an option is chosen)."
   ]
  },
  {
   "cell_type": "code",
   "execution_count": 4,
   "metadata": {},
   "outputs": [],
   "source": [
    "cost_table = {\n",
    "    (1,'A'):11, (2,'A'):20, (3,'A'):30, (4,'A'):40, (5,'A'):50,\n",
    "    (1,'B'): 9, (2,'B'):17, (3,'B'):24, (4,'B'):34, (5,'B'):45,\n",
    "    (1,'C'): 8, (2,'C'):15, (3,'C'):21, (4,'C'):26, (5,'C'):31\n",
    "}\n",
    "model.c = pe.Param(model.n, model.t, initialize=cost_table)\n",
    "\n",
    "capacity = {'A':80, 'B':68, 'C':55}\n",
    "model.cap = pe.Param(model.t, initialize=capacity)\n",
    "\n",
    "model.P = pe.Param(initialize=372)\n",
    "model.FC = pe.Param(initialize=6)  # k€"
   ]
  },
  {
   "cell_type": "markdown",
   "metadata": {},
   "source": [
    "### Variables\n",
    "\n",
    "- $x_{n,t} \\in \\{0,1\\}$: equals 1 if **option $n$** is selected for **type $t$**, and 0 otherwise.\n"
   ]
  },
  {
   "cell_type": "code",
   "execution_count": 5,
   "metadata": {},
   "outputs": [],
   "source": [
    "model.x = pe.Var(model.n, model.t, within=pe.Binary)"
   ]
  },
  {
   "cell_type": "markdown",
   "metadata": {},
   "source": [
    "### Objective Function\n",
    "\n",
    "We **minimize total cost** of the chosen options:"
   ]
  },
  {
   "cell_type": "code",
   "execution_count": 6,
   "metadata": {},
   "outputs": [],
   "source": [
    "def obj_rule(model):\n",
    "    return sum((model.c[n,t] + model.FC) * model.x[n,t] for n in model.n for t in model.t)\n",
    "model.total_cost = pe.Objective(rule=obj_rule, sense=pe.minimize)"
   ]
  },
  {
   "cell_type": "markdown",
   "metadata": {},
   "source": [
    "### Constraints\n",
    "\n",
    "**(1) At most one option per aircraft type**\n",
    "\n",
    "**(2) Demand satisfaction via total capacity**"
   ]
  },
  {
   "cell_type": "code",
   "execution_count": 7,
   "metadata": {},
   "outputs": [],
   "source": [
    "def one_choice_per_type_rule(model, t):\n",
    "    return sum(model.x[n,t] for n in model.n) <= 1\n",
    "model.one_choice_per_type = pe.Constraint(model.t, rule=one_choice_per_type_rule)\n",
    "\n",
    "def capacity_rule(model):\n",
    "    return sum(n * model.cap[t] * model.x[n,t] for n in model.n for t in model.t) >= model.P\n",
    "model.capacity_ok = pe.Constraint(rule=capacity_rule)"
   ]
  },
  {
   "cell_type": "markdown",
   "metadata": {},
   "source": [
    "### Solver definition and solve statement"
   ]
  },
  {
   "cell_type": "code",
   "execution_count": 8,
   "metadata": {},
   "outputs": [
    {
     "name": "stdout",
     "output_type": "stream",
     "text": [
      "Set parameter Username\n",
      "Set parameter LicenseID to value 2704768\n",
      "Academic license - for non-commercial use only - expires 2026-09-08\n",
      "Read LP format model from file /var/folders/pr/nst7vndn0l10vqp0s73wclhr0000gn/T/tmp3rsoyf8t.pyomo.lp\n",
      "Reading time = 0.00 seconds\n",
      "x1: 4 rows, 15 columns, 30 nonzeros\n",
      "Gurobi Optimizer version 12.0.3 build v12.0.3rc0 (mac64[arm] - Darwin 24.6.0 24G90)\n",
      "\n",
      "CPU model: Apple M2\n",
      "Thread count: 8 physical cores, 8 logical processors, using up to 8 threads\n",
      "\n",
      "Optimize a model with 4 rows, 15 columns and 30 nonzeros\n",
      "Model fingerprint: 0x9e6b927a\n",
      "Variable types: 0 continuous, 15 integer (15 binary)\n",
      "Coefficient statistics:\n",
      "  Matrix range     [1e+00, 4e+02]\n",
      "  Objective range  [1e+01, 6e+01]\n",
      "  Bounds range     [1e+00, 1e+00]\n",
      "  RHS range        [1e+00, 4e+02]\n",
      "Found heuristic solution: objective 60.0000000\n",
      "Presolve time: 0.00s\n",
      "Presolved: 4 rows, 15 columns, 30 nonzeros\n",
      "Variable types: 0 continuous, 15 integer (15 binary)\n",
      "\n",
      "Root relaxation: objective 5.296215e+01, 1 iterations, 0.00 seconds (0.00 work units)\n",
      "\n",
      "    Nodes    |    Current Node    |     Objective Bounds      |     Work\n",
      " Expl Unexpl |  Obj  Depth IntInf | Incumbent    BestBd   Gap | It/Node Time\n",
      "\n",
      "     0     0   52.96215    0    1   60.00000   52.96215  11.7%     -    0s\n",
      "H    0     0                      56.0000000   52.96215  5.42%     -    0s\n",
      "\n",
      "Cutting planes:\n",
      "  Cover: 1\n",
      "\n",
      "Explored 1 nodes (1 simplex iterations) in 0.01 seconds (0.00 work units)\n",
      "Thread count was 8 (of 8 available processors)\n",
      "\n",
      "Solution count 2: 56 60 \n",
      "\n",
      "Optimal solution found (tolerance 1.00e-04)\n",
      "Best objective 5.600000000000e+01, best bound 5.600000000000e+01, gap 0.0000%\n"
     ]
    }
   ],
   "source": [
    "solver = po.SolverFactory('gurobi')\n",
    "results = solver.solve(model, tee=True)"
   ]
  },
  {
   "cell_type": "markdown",
   "metadata": {},
   "source": [
    "### Results\n",
    "\n",
    "We report:\n",
    "- **Optimal total cost** (`model.total_cost`), in k€.\n",
    "- **Selected number of airplanes per type** (derived from `x[n,t]`).\n",
    "- **Total capacity** vs **demand** to verify feasibility.\n",
    "\n",
    "The printed summary shows the chosen plan by aircraft type and the aggregate capacity check."
   ]
  },
  {
   "cell_type": "code",
   "execution_count": 9,
   "metadata": {},
   "outputs": [
    {
     "name": "stdout",
     "output_type": "stream",
     "text": [
      "Optimal total cost: 56.00 k€\n",
      "Type A: 5 airplanes selected\n",
      "Type B: 0 airplanes selected\n",
      "Type C: 0 airplanes selected\n",
      "Total capacity: 400 passengers (demand = 372)\n"
     ]
    }
   ],
   "source": [
    "opt_cost = pe.value(model.total_cost)\n",
    "print(f\"Optimal total cost: {opt_cost:.2f} k€\")\n",
    "\n",
    "chosen = {}\n",
    "for t in model.t:\n",
    "    n_used = sum(n * pe.value(model.x[n,t]) for n in model.n)\n",
    "    chosen[t] = int(round(n_used))\n",
    "    print(f\"Type {t}: {chosen[t]} airplanes selected\")\n",
    "\n",
    "total_capacity = sum(chosen[t] * pe.value(model.cap[t]) for t in model.t)\n",
    "print(f\"Total capacity: {int(total_capacity)} passengers (demand = {pe.value(model.P)})\")"
   ]
  }
 ],
 "metadata": {
  "kernelspec": {
   "display_name": "base",
   "language": "python",
   "name": "python3"
  },
  "language_info": {
   "codemirror_mode": {
    "name": "ipython",
    "version": 3
   },
   "file_extension": ".py",
   "mimetype": "text/x-python",
   "name": "python",
   "nbconvert_exporter": "python",
   "pygments_lexer": "ipython3",
   "version": "3.11.4"
  }
 },
 "nbformat": 4,
 "nbformat_minor": 2
}
