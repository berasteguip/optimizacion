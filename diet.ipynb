{
 "cells": [
  {
   "cell_type": "markdown",
   "metadata": {},
   "source": [
    "### Importing packages and modules"
   ]
  },
  {
   "cell_type": "code",
   "execution_count": 1,
   "metadata": {},
   "outputs": [],
   "source": [
    "# module for building the pyomo model\n",
    "import pyomo.environ as pe\n",
    "# module for solving the pyomo model\n",
    "import pyomo.opt as po"
   ]
  },
  {
   "cell_type": "markdown",
   "metadata": {},
   "source": [
    "### Create the model"
   ]
  },
  {
   "cell_type": "code",
   "execution_count": 2,
   "metadata": {},
   "outputs": [],
   "source": [
    "model = pe.ConcreteModel() "
   ]
  },
  {
   "cell_type": "markdown",
   "metadata": {},
   "source": [
    "Order to build the model:\n",
    "1. Sets\n",
    "1. Parameters\n",
    "1. Variables\n",
    "1. Objective function\n",
    "1. Constraints"
   ]
  },
  {
   "cell_type": "markdown",
   "metadata": {},
   "source": [
    "#### Sets\n",
    "\n",
    "$f$: food type {'feed', 'forage'}\n",
    "\n",
    "$n$: nutrient {'protein', 'calcium','vitamin'}"
   ]
  },
  {
   "cell_type": "code",
   "execution_count": 3,
   "metadata": {},
   "outputs": [],
   "source": [
    "model.food_type = pe.Set(initialize=['feed', 'forage'])\n",
    "model.nutrient = pe.Set(initialize=['protein', 'calcium','vitamin'])"
   ]
  },
  {
   "cell_type": "markdown",
   "metadata": {},
   "source": [
    "#### Parameters"
   ]
  },
  {
   "cell_type": "markdown",
   "metadata": {},
   "source": [
    "$Content_{f,n}$: nutrient n content in type of food f [g/kg]"
   ]
  },
  {
   "cell_type": "code",
   "execution_count": 4,
   "metadata": {},
   "outputs": [],
   "source": [
    "nutrient_content = {\n",
    "    ('feed','protein'): 30,\n",
    "    ('forage','protein'): 45,\n",
    "    ('feed','calcium'): 2,\n",
    "    ('forage','calcium'): 1,\n",
    "    ('feed','vitamin'): 0.01,\n",
    "    ('forage','vitamin'): 0.005\n",
    "    }\n",
    "\n",
    "model.nutrient_content = pe.Param(model.food_type, model.nutrient, initialize = nutrient_content)"
   ]
  },
  {
   "cell_type": "markdown",
   "metadata": {},
   "source": [
    "$Need_n$: daily nutrient n need [g]"
   ]
  },
  {
   "cell_type": "code",
   "execution_count": 5,
   "metadata": {},
   "outputs": [],
   "source": [
    "nutrient_need = {\n",
    "    'protein': 700,\n",
    "    'calcium': 28,\n",
    "    'vitamin': 0.15,\n",
    "    }\n",
    "\n",
    "model.nutrient_need = pe.Param(model.nutrient, initialize = nutrient_need)"
   ]
  },
  {
   "cell_type": "markdown",
   "metadata": {},
   "source": [
    "$Cost_f$: cost per type of food f [€/kg]"
   ]
  },
  {
   "cell_type": "code",
   "execution_count": 6,
   "metadata": {},
   "outputs": [],
   "source": [
    "food_cost = {'feed': 0.3, 'forage': 0.35}\n",
    "\n",
    "model.food_cost = pe.Param (model.food_type, initialize = food_cost)"
   ]
  },
  {
   "cell_type": "markdown",
   "metadata": {},
   "source": [
    "#### Variables\n",
    "\n",
    "$x_f$: kg of food $f$ in daily diet [kg]"
   ]
  },
  {
   "cell_type": "code",
   "execution_count": 7,
   "metadata": {},
   "outputs": [],
   "source": [
    "model.food_kg = pe.Var(model.food_type, within = pe.NonNegativeReals)"
   ]
  },
  {
   "cell_type": "markdown",
   "metadata": {},
   "source": [
    "#### Objective Function\n",
    "\n",
    "min $\\sum_f Cost_f*x_f$"
   ]
  },
  {
   "cell_type": "code",
   "execution_count": 8,
   "metadata": {},
   "outputs": [],
   "source": [
    "def obj_rule(model):\n",
    "    return sum((model.food_cost[f] * model.food_kg[f]) for f in model.food_type)\n",
    "\n",
    "model.cost = pe.Objective(rule = obj_rule, sense = pe.minimize)"
   ]
  },
  {
   "cell_type": "markdown",
   "metadata": {},
   "source": [
    "#### Constraints"
   ]
  },
  {
   "cell_type": "markdown",
   "metadata": {},
   "source": [
    "Constraint #1: minimum daily need of nutrient n in diet\n",
    "\n",
    "$\\sum_f Content_{f,n}*x_f >= Need_n \\quad \\forall n$"
   ]
  },
  {
   "cell_type": "code",
   "execution_count": 9,
   "metadata": {},
   "outputs": [],
   "source": [
    "model.eq_nutrient_need = pe.ConstraintList()\n",
    "for n in model.nutrient:\n",
    "    model.eq_nutrient_need.add(\n",
    "        sum(model.nutrient_content[f,n]*model.food_kg[f] for f in model.food_type) >= model.nutrient_need[n]\n",
    "    )"
   ]
  },
  {
   "cell_type": "markdown",
   "metadata": {},
   "source": [
    "#### Solver definition and solve statement"
   ]
  },
  {
   "cell_type": "code",
   "execution_count": 10,
   "metadata": {},
   "outputs": [
    {
     "name": "stdout",
     "output_type": "stream",
     "text": [
      "Set parameter Username\n",
      "Set parameter LicenseID to value 2704768\n",
      "Academic license - for non-commercial use only - expires 2026-09-08\n",
      "Read LP format model from file /var/folders/pr/nst7vndn0l10vqp0s73wclhr0000gn/T/tmp9ada5gv1.pyomo.lp\n",
      "Reading time = 0.00 seconds\n",
      "x1: 3 rows, 2 columns, 6 nonzeros\n",
      "Gurobi Optimizer version 12.0.3 build v12.0.3rc0 (mac64[arm] - Darwin 24.6.0 24G90)\n",
      "\n",
      "CPU model: Apple M2\n",
      "Thread count: 8 physical cores, 8 logical processors, using up to 8 threads\n",
      "\n",
      "Optimize a model with 3 rows, 2 columns and 6 nonzeros\n",
      "Model fingerprint: 0x8d2d0f5e\n",
      "Coefficient statistics:\n",
      "  Matrix range     [5e-03, 4e+01]\n",
      "  Objective range  [3e-01, 3e-01]\n",
      "  Bounds range     [0e+00, 0e+00]\n",
      "  RHS range        [1e-01, 7e+02]\n",
      "Presolve removed 1 rows and 0 columns\n",
      "Presolve time: 0.00s\n",
      "Presolved: 2 rows, 2 columns, 4 nonzeros\n",
      "\n",
      "Iteration    Objective       Primal Inf.    Dual Inf.      Time\n",
      "       0    0.0000000e+00   1.259000e+02   0.000000e+00      0s\n",
      "       2    6.1666667e+00   0.000000e+00   0.000000e+00      0s\n",
      "\n",
      "Solved in 2 iterations and 0.00 seconds (0.00 work units)\n",
      "Optimal objective  6.166666667e+00\n"
     ]
    }
   ],
   "source": [
    "solver = po.SolverFactory('gurobi')\n",
    "results = solver.solve (model, tee=True)"
   ]
  },
  {
   "cell_type": "code",
   "execution_count": 11,
   "metadata": {},
   "outputs": [
    {
     "name": "stdout",
     "output_type": "stream",
     "text": [
      "6.17\n"
     ]
    }
   ],
   "source": [
    "print(round(pe.value(model.cost),2))"
   ]
  },
  {
   "cell_type": "code",
   "execution_count": 12,
   "metadata": {},
   "outputs": [
    {
     "name": "stdout",
     "output_type": "stream",
     "text": [
      "10.83 kg of feed in diet\n",
      "8.33 kg of forage in diet\n"
     ]
    }
   ],
   "source": [
    "for f in model.food_type:\n",
    "    print('{} kg of {} in diet'.format(round(pe.value(model.food_kg[f]),2), pe.value(f)))"
   ]
  },
  {
   "cell_type": "code",
   "execution_count": 13,
   "metadata": {},
   "outputs": [
    {
     "name": "stdout",
     "output_type": "stream",
     "text": [
      "700.0 g of protein in diet\n",
      "30.0 g of calcium in diet\n",
      "150.0 mg of vitamin in diet\n"
     ]
    }
   ],
   "source": [
    "for n in model.nutrient:\n",
    "    total_nutrient=sum(pe.value(model.nutrient_content[f,n])*pe.value(model.food_kg[f]) for f in model.food_type)\n",
    "    if n == 'vitamin':\n",
    "        total_nutrient = 1000*total_nutrient\n",
    "        metric = 'mg'\n",
    "    else:\n",
    "        metric = 'g'\n",
    "    print('{} {} of {} in diet'.format(total_nutrient, metric, n))"
   ]
  }
 ],
 "metadata": {
  "kernelspec": {
   "display_name": "base",
   "language": "python",
   "name": "python3"
  },
  "language_info": {
   "codemirror_mode": {
    "name": "ipython",
    "version": 3
   },
   "file_extension": ".py",
   "mimetype": "text/x-python",
   "name": "python",
   "nbconvert_exporter": "python",
   "pygments_lexer": "ipython3",
   "version": "3.11.4"
  }
 },
 "nbformat": 4,
 "nbformat_minor": 4
}
