{
 "cells": [
  {
   "cell_type": "markdown",
   "metadata": {},
   "source": [
    "## Basketball Team - Modelling"
   ]
  },
  {
   "cell_type": "markdown",
   "metadata": {},
   "source": [
    "#### José María Benítez, Pablo Berástegui, Daniel Escobosa y Alejandro de Haro"
   ]
  },
  {
   "cell_type": "markdown",
   "metadata": {},
   "source": [
    "### Importing packages and modules"
   ]
  },
  {
   "cell_type": "code",
   "execution_count": 1,
   "metadata": {},
   "outputs": [],
   "source": [
    "import pyomo.environ as pe\n",
    "import pyomo.opt as po"
   ]
  },
  {
   "cell_type": "markdown",
   "metadata": {},
   "source": [
    "### Create the model"
   ]
  },
  {
   "cell_type": "code",
   "execution_count": 2,
   "metadata": {},
   "outputs": [],
   "source": [
    "model = pe.ConcreteModel()"
   ]
  },
  {
   "cell_type": "markdown",
   "metadata": {},
   "source": [
    "#### Sets\n",
    "\n",
    "$p$: player {'1', '2', '3', '4', '5', '6', '7', '8', '9'}\n",
    "\n",
    "$pos$: position {'G', 'F', 'C'}"
   ]
  },
  {
   "cell_type": "code",
   "execution_count": 3,
   "metadata": {},
   "outputs": [],
   "source": [
    "model.P = pe.Set(initialize=[1,2,3,4,5,6,7,8,9])\n",
    "model.Pos = pe.Set(initialize=['G','F','C'])"
   ]
  },
  {
   "cell_type": "markdown",
   "metadata": {},
   "source": [
    "#### Parameters"
   ]
  },
  {
   "cell_type": "markdown",
   "metadata": {},
   "source": [
    "$M_{p,pos}$: the player $p$ plays as $pos$ position \n",
    "\n",
    "$H$: handle skill ranked depending on the player $p$\n",
    "\n",
    "$S$: shot skill ranked depending on the player $p$\n",
    "\n",
    "$RB$: rebound skill ranked depending on the player $p$\n",
    "\n",
    "$D$: defense skill ranked depending on the player $p$"
   ]
  },
  {
   "cell_type": "code",
   "execution_count": 4,
   "metadata": {},
   "outputs": [],
   "source": [
    "H = {1:2, 2:3, 3:2, 4:1, 5:1, 6:3, 7:3, 8:2, 9:3}\n",
    "S = {1:1, 2:3, 3:3, 4:3, 5:3, 6:1, 7:2, 8:1, 9:3}\n",
    "RB= {1:3, 2:1, 3:2, 4:3, 5:1, 6:2, 7:2, 8:3, 9:1}\n",
    "D = {1:3, 2:2, 3:2, 4:1, 5:2, 6:3, 7:1, 8:2, 9:3}\n",
    "\n",
    "model.H = pe.Param(model.P, initialize=H) #handle\n",
    "model.S = pe.Param(model.P, initialize=S) #shot\n",
    "model.RB = pe.Param(model.P, initialize=RB) #rebound\n",
    "model.D = pe.Param(model.P, initialize=D) #defense\n",
    "\n",
    "orden_pos = ['G','F','C']\n",
    "\n",
    "pos_by_player = {\n",
    "    1:{'C'}, 2:{'G'}, 3:{'F','C'}, 4:{'G','F'}, 5:{'F','C'},\n",
    "    6:{'G','F'}, 7:{'F','C'}, 8:{'C'}, 9:{'F'}\n",
    "}\n",
    "pos_players = {(p,r): int(r in pos_by_player[p]) for p in model.P for r in model.Pos}\n",
    "model.pos_players = pe.Param(model.P, model.Pos, initialize=pos_players)\n",
    "\n"
   ]
  },
  {
   "cell_type": "markdown",
   "metadata": {},
   "source": [
    "#### Variables"
   ]
  },
  {
   "cell_type": "markdown",
   "metadata": {},
   "source": [
    "$x_{p,pos}$: the player $p$ is selected to play as the position $pos$"
   ]
  },
  {
   "cell_type": "code",
   "execution_count": 5,
   "metadata": {},
   "outputs": [],
   "source": [
    "model.x = pe.Var(model.P, model.Pos, within=pe.Binary)"
   ]
  },
  {
   "cell_type": "markdown",
   "metadata": {},
   "source": [
    "#### Objective Function"
   ]
  },
  {
   "cell_type": "markdown",
   "metadata": {},
   "source": [
    "**max $\\sum_{p,pos}$ $x_{p,pos}$ $*$ $D_{p}$**"
   ]
  },
  {
   "cell_type": "code",
   "execution_count": 6,
   "metadata": {},
   "outputs": [],
   "source": [
    "def obj_rule(model):\n",
    "    return sum(model.D[p]*model.x[p,pos] for p in model.P for pos in model.Pos)\n",
    "model.total_cost = pe.Objective(rule=obj_rule, sense=pe.maximize)"
   ]
  },
  {
   "cell_type": "markdown",
   "metadata": {},
   "source": [
    "#### Constraints"
   ]
  },
  {
   "cell_type": "markdown",
   "metadata": {},
   "source": [
    "### Restricciones del modelo de baloncesto\n",
    "\n",
    "**1. Tamaño del equipo**\n",
    "\n",
    "$$\n",
    "\\sum_{p \\in P} \\sum_{r \\in R} x_{p,r} = 5\n",
    "$$\n",
    "\n",
    "\n",
    "**2. Requisitos de posiciones**\n",
    "\n",
    "$$\n",
    "\\sum_{p \\in P} x_{p,G} \\;\\geq\\; 2\n",
    "$$\n",
    "\n",
    "$$\n",
    "\\sum_{p \\in P} x_{p,F} \\;\\geq\\; 2\n",
    "$$\n",
    "\n",
    "$$\n",
    "\\sum_{p \\in P} x_{p,C} \\;\\geq\\; 1\n",
    "$$\n",
    "\n",
    "\n",
    "**3. Promedios mínimos de habilidades**\n",
    "\n",
    "(Como se seleccionan 5 jugadores, la suma debe ser al menos 10 en cada habilidad)\n",
    "\n",
    "$$\n",
    "\\sum_{p \\in P} \\sum_{r \\in R} H_p \\, x_{p,r} \\;\\geq\\; 10\n",
    "$$\n",
    "\n",
    "$$\n",
    "\\sum_{p \\in P} \\sum_{r \\in R} S_p \\, x_{p,r} \\;\\geq\\; 10\n",
    "$$\n",
    "\n",
    "$$\n",
    "\\sum_{p \\in P} \\sum_{r \\in R} RB_p \\, x_{p,r} \\;\\geq\\; 10\n",
    "$$\n",
    "\n",
    "\n",
    "**4. Incompatibilidad jugadores 3 y 6**\n",
    "\n",
    "$$\n",
    "\\sum_{r \\in R} x_{3,r} + \\sum_{r \\in R} x_{6,r} \\;\\leq\\; 1\n",
    "$$\n",
    "\n",
    "\n",
    "**5. Relación entre jugadores 1, 4 y 5**\n",
    "\n",
    "$$\n",
    "\\sum_{r \\in R} x_{4,r} + \\sum_{r \\in R} x_{5,r} \\;\\geq\\; \\sum_{r \\in R} x_{1,r}\n",
    "$$\n",
    "\n",
    "$$\n",
    "\\sum_{r \\in R} x_{4,r} + \\sum_{r \\in R} x_{5,r} \\;\\leq\\; 2 - \\sum_{r \\in R} x_{1,r}\n",
    "$$\n",
    "\n",
    "\n",
    "**6. Exclusión entre jugadores 8 y 9**\n",
    "\n",
    "$$\n",
    "\\sum_{r \\in R} x_{8,r} + \\sum_{r \\in R} x_{9,r} \\;=\\; 1\n",
    "$$\n"
   ]
  },
  {
   "cell_type": "code",
   "execution_count": 7,
   "metadata": {},
   "outputs": [],
   "source": [
    "def position_availability_rule(m,p,pos):\n",
    "    return m.x[p,pos] <= m.pos_players[p,pos]\n",
    "model.position_availability = pe.Constraint(model.P, model.Pos, rule=position_availability_rule)\n",
    "\n",
    "# A lo sumo una posición por jugador\n",
    "def atmost_one_pos_rule(m,p):\n",
    "    return sum(m.x[p,pos] for pos in m.Pos) <= 1\n",
    "model.atmost_one_pos = pe.Constraint(model.P, rule=atmost_one_pos_rule)\n",
    "\n",
    "model.team_size = pe.Constraint(expr=sum(model.x[p,pos] for p in model.P for pos in model.Pos) == 5)\n",
    "\n",
    "model.min_G = pe.Constraint(expr=sum(model.x[p,'G'] for p in model.P) >= 2)\n",
    "model.min_F = pe.Constraint(expr=sum(model.x[p,'F'] for p in model.P) >= 2)\n",
    "model.min_C = pe.Constraint(expr=sum(model.x[p,'C'] for p in model.P) >= 1)\n",
    "\n",
    "model.min_H  = pe.Constraint(expr=sum(model.H[p]*sum(model.x[p,pos] for pos in model.Pos) for p in model.P) >= 10)\n",
    "model.min_S  = pe.Constraint(expr=sum(model.S[p]*sum(model.x[p,pos] for pos in model.Pos) for p in model.P) >= 10)\n",
    "model.min_RB = pe.Constraint(expr=sum(model.RB[p]*sum(model.x[p,pos] for pos in model.Pos) for p in model.P) >= 10)\n",
    "\n",
    "model.incomp_36 = pe.Constraint(expr=sum(model.x[3,pos] for pos in model.Pos) + sum(model.x[6,pos] for pos in model.Pos) <= 1)\n",
    "\n",
    "model.one_45_lb = pe.Constraint(expr=sum(model.x[4,pos] for pos in model.Pos) + sum(model.x[5,pos] for pos in model.Pos) >= sum(model.x[1,pos] for pos in model.Pos))\n",
    "model.one_45_ub = pe.Constraint(expr=sum(model.x[4,pos] for pos in model.Pos) + sum(model.x[5,pos] for pos in model.Pos) <= 2 - sum(model.x[1,pos] for pos in model.Pos))\n",
    "\n",
    "model.xor_89 = pe.Constraint(expr=sum(model.x[8,pos] for pos in model.Pos) + sum(model.x[9,pos] for pos in model.Pos) == 1)"
   ]
  },
  {
   "cell_type": "markdown",
   "metadata": {},
   "source": [
    "#### Solver definition and solve statement"
   ]
  },
  {
   "cell_type": "code",
   "execution_count": 8,
   "metadata": {},
   "outputs": [
    {
     "data": {
      "text/plain": [
       "{'Problem': [{'Name': 'x1', 'Lower bound': 12.0, 'Upper bound': 12.0, 'Number of objectives': 1, 'Number of constraints': 47, 'Number of variables': 27, 'Number of binary variables': 27, 'Number of integer variables': 27, 'Number of continuous variables': 0, 'Number of nonzeros': 219, 'Sense': 'maximize'}], 'Solver': [{'Status': 'ok', 'Return code': '0', 'Message': 'Model was solved to optimality (subject to tolerances), and an optimal solution is available.', 'Termination condition': 'optimal', 'Termination message': 'Model was solved to optimality (subject to tolerances), and an optimal solution is available.', 'Wall time': '0.03900003433227539', 'Error rc': 0, 'Time': 1.0331964492797852}], 'Solution': [OrderedDict([('number of solutions', 0), ('number of solutions displayed', 0)])]}"
      ]
     },
     "execution_count": 8,
     "metadata": {},
     "output_type": "execute_result"
    }
   ],
   "source": [
    "solver = po.SolverFactory('gurobi')\n",
    "solver.solve(model, tee=False)"
   ]
  },
  {
   "cell_type": "markdown",
   "metadata": {},
   "source": [
    "#### Results"
   ]
  },
  {
   "cell_type": "code",
   "execution_count": 15,
   "metadata": {},
   "outputs": [
    {
     "name": "stdout",
     "output_type": "stream",
     "text": [
      "Defensa: 12\n",
      "5 jugadores (jugador, posición): [(1, 'C'), (2, 'G'), (4, 'F'), (6, 'G'), (9, 'F')]\n"
     ]
    }
   ],
   "source": [
    "selected = [(p, [pos for pos in model.Pos if pe.value(model.x[p,pos])>0.5][0])\n",
    "            for p in model.P if sum(pe.value(model.x[p,pos]) for pos in model.Pos)>0.5]\n",
    "defense = 0\n",
    "for jug,pos in selected:\n",
    "    defense+=D[jug]\n",
    "print(f'Defensa: {defense}')\n",
    "print(f\"5 jugadores (jugador, posición): {selected}\")"
   ]
  }
 ],
 "metadata": {
  "kernelspec": {
   "display_name": "base",
   "language": "python",
   "name": "python3"
  },
  "language_info": {
   "codemirror_mode": {
    "name": "ipython",
    "version": 3
   },
   "file_extension": ".py",
   "mimetype": "text/x-python",
   "name": "python",
   "nbconvert_exporter": "python",
   "pygments_lexer": "ipython3",
   "version": "3.11.4"
  }
 },
 "nbformat": 4,
 "nbformat_minor": 2
}
