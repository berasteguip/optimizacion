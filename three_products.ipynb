{
 "cells": [
  {
   "cell_type": "markdown",
   "id": "12d0b492",
   "metadata": {},
   "source": [
    "# "
   ]
  },
  {
   "cell_type": "markdown",
   "id": "8607f355",
   "metadata": {},
   "source": [
    "# Three products - Modelling"
   ]
  },
  {
   "cell_type": "markdown",
   "id": "238fb169",
   "metadata": {},
   "source": [
    "## Autores:\n",
    "- Alejandro De Haro\n",
    "- Daniel Escobosa\n",
    "- Pablo Berastegui\n",
    "- Jose María Benitez"
   ]
  },
  {
   "cell_type": "code",
   "execution_count": 2,
   "id": "0a3818d1",
   "metadata": {},
   "outputs": [],
   "source": [
    "# module for building the pyomo model\n",
    "import pyomo.environ as pe\n",
    "# module for solving the pyomo model\n",
    "import pyomo.opt as po"
   ]
  },
  {
   "cell_type": "code",
   "execution_count": 3,
   "id": "bc62ba64",
   "metadata": {},
   "outputs": [],
   "source": [
    "model = pe.ConcreteModel()"
   ]
  },
  {
   "cell_type": "markdown",
   "id": "6f10d30f",
   "metadata": {},
   "source": [
    "Order to build the model:\n",
    "1. Sets\n",
    "1. Parameters\n",
    "1. Variables\n",
    "1. Objective function\n",
    "1. Constraints"
   ]
  },
  {
   "cell_type": "markdown",
   "id": "2563ed62",
   "metadata": {},
   "source": [
    "#### Sets\n",
    "\n",
    "$p$: product {'A', 'B', 'C'}\n",
    "\n",
    "$f$: factory {'F1', 'F2', 'F3', 'F4', 'F5', 'F6'}"
   ]
  },
  {
   "cell_type": "code",
   "execution_count": 4,
   "id": "c5aafc65",
   "metadata": {},
   "outputs": [],
   "source": [
    "model.product = pe.Set(initialize=['A', 'B', 'C'])\n",
    "model.factory = pe.Set(initialize=[f'F{i}' for i in range(1, 7)])"
   ]
  },
  {
   "cell_type": "markdown",
   "id": "e98a5a20",
   "metadata": {},
   "source": [
    "#### Parameters"
   ]
  },
  {
   "cell_type": "markdown",
   "id": "75d6fae3",
   "metadata": {},
   "source": [
    "$C_{p,f}$: cost of product $p$ in factory $f$ [g/kg]\n",
    "\n",
    "$NS_p$: number of product $p$ sold\n",
    "\n",
    "$MC_f$: maximum capacity of factory $f$\n",
    "\n",
    "$SP_p$: selling price of product $p$"
   ]
  },
  {
   "cell_type": "code",
   "execution_count": 5,
   "id": "749b36e7",
   "metadata": {},
   "outputs": [],
   "source": [
    "cost = {\n",
    "    ('A', 'F1'): 25,\n",
    "    ('A', 'F2'): 30,\n",
    "    ('A', 'F3'): 26,\n",
    "    ('A', 'F4'): 34,\n",
    "    ('A', 'F5'): 32,\n",
    "    ('A', 'F6'): 30,\n",
    "\n",
    "    ('B', 'F1'): 30,\n",
    "    ('B', 'F2'): 32,\n",
    "    ('B', 'F3'): 34,\n",
    "    ('B', 'F4'): 35,\n",
    "    ('B', 'F5'): 38,\n",
    "    ('B', 'F6'): 40,\n",
    "\n",
    "    ('C', 'F1'): 40,\n",
    "    ('C', 'F2'): 46,\n",
    "    ('C', 'F3'): 42,\n",
    "    ('C', 'F4'): 37,\n",
    "    ('C', 'F5'): 40,\n",
    "    ('C', 'F6'): 50\n",
    "}\n",
    "\n",
    "n_sells = {\n",
    "    'A': 700,\n",
    "    'B': 500,\n",
    "    'C': 600\n",
    "}\n",
    "\n",
    "maximum_capacity = {\n",
    "    'F1': 550,\n",
    "    'F2': 700,\n",
    "    'F3': 1100,\n",
    "    'F4': 350,\n",
    "    'F5': 400,\n",
    "    'F6': 450\n",
    "}\n",
    "\n",
    "selling_price = {\n",
    "    'A': 60,\n",
    "    'B': 82.5,\n",
    "    'C': 108\n",
    "}\n",
    "\n",
    "model.cost = pe.Param(model.product, model.factory, initialize=cost)\n",
    "model.n_sells = pe.Param(model.product, initialize=n_sells)\n",
    "model.maximum_capacity = pe.Param(model.factory, initialize=maximum_capacity)\n",
    "model.selling_price = pe.Param(model.product, initialize=selling_price)"
   ]
  },
  {
   "cell_type": "markdown",
   "id": "87973d3b",
   "metadata": {},
   "source": [
    "#### Variables"
   ]
  },
  {
   "cell_type": "markdown",
   "id": "0732b5fb",
   "metadata": {},
   "source": [
    "$x_{p,f}$: quantity of product $p$ manufactured in factory $f$"
   ]
  },
  {
   "cell_type": "code",
   "execution_count": 6,
   "id": "86dd2efd",
   "metadata": {},
   "outputs": [],
   "source": [
    "model.x = pe.Var(model.product, model.factory, domain=pe.NonNegativeReals)"
   ]
  },
  {
   "cell_type": "markdown",
   "id": "e90838dd",
   "metadata": {},
   "source": [
    "#### Objective function"
   ]
  },
  {
   "cell_type": "markdown",
   "id": "d0ab4e9f",
   "metadata": {},
   "source": [
    "Benefits = Earnings - Costs     (function to maximise)\n",
    "\n",
    "- Earnings = $\\sum_{p,f}$ $x_{p,f}$ $*$ $SP_p$\n",
    "- Costs = $\\sum_{p,f}$ $x_{p,f}$ $*$ $C_{p,f}$\n",
    "\n",
    "\n",
    "**max $\\sum_{p,f}$ $x_{p,f}$ $*$ $SP_p$ - $\\sum_{p,f}$ $x_{p,f}$ $*$ $C_{p,f}$**"
   ]
  },
  {
   "cell_type": "code",
   "execution_count": 7,
   "id": "475c395a",
   "metadata": {},
   "outputs": [],
   "source": [
    "def obj_rule(model):\n",
    "    return sum(model.x[p, f] * model.selling_price[p] for p in model.product for f in model.factory) - \\\n",
    "           sum(model.x[p, f] * model.cost[p, f] for p in model.product for f in model.factory)\n",
    "\n",
    "model.obj = pe.Objective(rule=obj_rule, sense=pe.maximize)"
   ]
  },
  {
   "cell_type": "markdown",
   "id": "3be0a811",
   "metadata": {},
   "source": [
    "#### Constraints"
   ]
  },
  {
   "cell_type": "markdown",
   "id": "cbedd5b6",
   "metadata": {},
   "source": [
    "$\\sum_p$ $x_{p,f}$ ≤ $MC_f$ $∀ f$\n",
    "\n",
    "$\\sum_p$ $x_{p,f}$ ≥ $NS_p$ $∀ p$\n",
    "\n",
    "$x_{p,f}$ ≥ 0 $∀ p,f$"
   ]
  },
  {
   "cell_type": "code",
   "execution_count": 8,
   "id": "1ad9cf00",
   "metadata": {},
   "outputs": [],
   "source": [
    "model.max_production = pe.ConstraintList()\n",
    "\n",
    "for f in model.factory:\n",
    "    model.max_production.add(sum(model.x[p, f] for p in model.product) <= model.maximum_capacity[f])\n",
    "\n",
    "model.min_sales = pe.ConstraintList()\n",
    "for p in model.product:\n",
    "    model.min_sales.add(sum(model.x[p, f] for f in model.factory) >= model.n_sells[p])\n",
    "\n",
    "# The constraint of being non-negative is already included in the variable definition"
   ]
  },
  {
   "cell_type": "markdown",
   "id": "efaafed2",
   "metadata": {},
   "source": [
    "#### Solver definition and solver statement"
   ]
  },
  {
   "cell_type": "code",
   "execution_count": 9,
   "id": "2f145f29",
   "metadata": {},
   "outputs": [
    {
     "name": "stdout",
     "output_type": "stream",
     "text": [
      "Set parameter Username\n",
      "Set parameter LicenseID to value 2704768\n",
      "Academic license - for non-commercial use only - expires 2026-09-08\n",
      "Read LP format model from file /var/folders/pr/nst7vndn0l10vqp0s73wclhr0000gn/T/tmpj8jbvlxa.pyomo.lp\n",
      "Reading time = 0.00 seconds\n",
      "x1: 9 rows, 18 columns, 36 nonzeros\n",
      "Gurobi Optimizer version 12.0.3 build v12.0.3rc0 (mac64[arm] - Darwin 24.6.0 24G90)\n",
      "\n",
      "CPU model: Apple M2\n",
      "Thread count: 8 physical cores, 8 logical processors, using up to 8 threads\n",
      "\n",
      "Optimize a model with 9 rows, 18 columns and 36 nonzeros\n",
      "Model fingerprint: 0x5bbc731c\n",
      "Coefficient statistics:\n",
      "  Matrix range     [1e+00, 1e+00]\n",
      "  Objective range  [3e+01, 7e+01]\n",
      "  Bounds range     [0e+00, 0e+00]\n",
      "  RHS range        [4e+02, 1e+03]\n",
      "Presolve time: 0.00s\n",
      "Presolved: 9 rows, 18 columns, 36 nonzeros\n",
      "\n",
      "Iteration    Objective       Primal Inf.    Dual Inf.      Time\n",
      "       0    8.6200000e+32   1.800000e+31   8.620000e+02      0s\n",
      "      10    2.0520000e+05   0.000000e+00   0.000000e+00      0s\n",
      "\n",
      "Solved in 10 iterations and 0.00 seconds (0.00 work units)\n",
      "Optimal objective  2.052000000e+05\n"
     ]
    }
   ],
   "source": [
    "# falta instalar gurobi\n",
    "solver = po.SolverFactory('gurobi')\n",
    "results = solver.solve (model, tee=True)"
   ]
  },
  {
   "cell_type": "code",
   "execution_count": null,
   "id": "336a894a",
   "metadata": {},
   "outputs": [
    {
     "name": "stdout",
     "output_type": "stream",
     "text": [
      "205200.0\n"
     ]
    }
   ],
   "source": [
    "# Total benefit\n",
    "print(round(pe.value(model.obj),2))"
   ]
  },
  {
   "cell_type": "code",
   "execution_count": null,
   "id": "242fe99c",
   "metadata": {},
   "outputs": [
    {
     "name": "stdout",
     "output_type": "stream",
     "text": [
      "Amount of product A in factory F1 is: 0.0\n",
      "Amount of product A in factory F2 is: 200.0\n",
      "Amount of product A in factory F3 is: 50.0\n",
      "Amount of product A in factory F4 is: 0.0\n",
      "Amount of product A in factory F5 is: 0.0\n",
      "Amount of product A in factory F6 is: 450.0\n",
      "Amount of product B in factory F1 is: 0.0\n",
      "Amount of product B in factory F2 is: 500.0\n",
      "Amount of product B in factory F3 is: 0.0\n",
      "Amount of product B in factory F4 is: 0.0\n",
      "Amount of product B in factory F5 is: 0.0\n",
      "Amount of product B in factory F6 is: 0.0\n",
      "Amount of product C in factory F1 is: 550.0\n",
      "Amount of product C in factory F2 is: 0.0\n",
      "Amount of product C in factory F3 is: 1050.0\n",
      "Amount of product C in factory F4 is: 350.0\n",
      "Amount of product C in factory F5 is: 400.0\n",
      "Amount of product C in factory F6 is: 0.0\n"
     ]
    }
   ],
   "source": [
    "# Best production plan\n",
    "for p in model.product:\n",
    "    for f in model.factory:\n",
    "        print('Amount of product {} in factory {} is: {}'.format(pe.value(p), pe.value(f),round(pe.value(model.x[p,f]),2)))"
   ]
  }
 ],
 "metadata": {
  "kernelspec": {
   "display_name": "base",
   "language": "python",
   "name": "python3"
  },
  "language_info": {
   "codemirror_mode": {
    "name": "ipython",
    "version": 3
   },
   "file_extension": ".py",
   "mimetype": "text/x-python",
   "name": "python",
   "nbconvert_exporter": "python",
   "pygments_lexer": "ipython3",
   "version": "3.11.4"
  }
 },
 "nbformat": 4,
 "nbformat_minor": 5
}
