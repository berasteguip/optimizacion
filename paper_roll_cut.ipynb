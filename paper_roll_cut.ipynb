{
 "cells": [
  {
   "cell_type": "markdown",
   "id": "55f52941",
   "metadata": {},
   "source": [
    "# Paper roll cut - Modeling"
   ]
  },
  {
   "cell_type": "markdown",
   "id": "08c04b57",
   "metadata": {},
   "source": [
    "## Autores:\n",
    "- Alejandro De Haro\n",
    "- Daniel Escobosa\n",
    "- Pablo Berastegui\n",
    "- Jose María Benitez\n"
   ]
  },
  {
   "cell_type": "markdown",
   "id": "09457f7f",
   "metadata": {},
   "source": [
    "### Importing packages and modules\n"
   ]
  },
  {
   "cell_type": "code",
   "execution_count": 1,
   "id": "1cd93f54",
   "metadata": {},
   "outputs": [],
   "source": [
    "import pyomo.environ as pe\n",
    "import pyomo.opt as po"
   ]
  },
  {
   "cell_type": "markdown",
   "id": "9b5fecaa",
   "metadata": {},
   "source": [
    "### Create the model"
   ]
  },
  {
   "cell_type": "markdown",
   "id": "eb5c1b1a",
   "metadata": {},
   "source": [
    "### Order to build the model:\n",
    "1. Sets  \n",
    "2. Parameters  \n",
    "3. Variables  \n",
    "4. Objective function  \n",
    "5. Constraints  \n",
    "6. Solver definition and solve statement  \n",
    "7. Results"
   ]
  },
  {
   "cell_type": "code",
   "execution_count": 3,
   "id": "09a46044",
   "metadata": {},
   "outputs": [],
   "source": [
    "model = pe.ConcreteModel()"
   ]
  },
  {
   "cell_type": "markdown",
   "id": "5c42c114",
   "metadata": {},
   "source": [
    "### Sets\n",
    "\n",
    "- $n \\in \\{1,2,3,4,5\\}$: **option** for the number of airplanes of a given type to charter.  \n",
    "- $t \\in \\{\\mathrm{A},\\mathrm{B},\\mathrm{C}\\}$: **aircraft type**."
   ]
  },
  {
   "cell_type": "code",
   "execution_count": 4,
   "id": "b5ab1c18",
   "metadata": {},
   "outputs": [],
   "source": [
    "model.c = pe.Set(initialize=[i for i in range(1,11)])\n",
    "\n",
    "N = 200    # Fixed number of master rolls\n",
    "model.n = pe.Set(initialize=[i for i in range(1,N)])"
   ]
  },
  {
   "cell_type": "markdown",
   "id": "7a904cac",
   "metadata": {},
   "source": [
    "### Parameters"
   ]
  },
  {
   "cell_type": "code",
   "execution_count": null,
   "id": "ceca1c8a",
   "metadata": {},
   "outputs": [],
   "source": [
    "n_rolls = {\n",
    "    1: 20,\n",
    "    2: 30,\n",
    "    3: 15,\n",
    "    4: 25,\n",
    "    5: 40,\n",
    "    6: 25,\n",
    "    7: 50,\n",
    "    8: 15,\n",
    "    9: 10,\n",
    "    10: 5\n",
    "}\n",
    "\n",
    "model.demand = pe.Param(model.c, initialize=n_rolls)\n",
    "\n",
    "\n",
    "model.cap = pe.Param(model.t, initialize=capacity)\n",
    "\n",
    "model.P = pe.Param(initialize=372)\n",
    "model.FC = pe.Param(initialize=6)  # k€"
   ]
  },
  {
   "cell_type": "markdown",
   "id": "de782b52",
   "metadata": {},
   "source": [
    "### Variables\n",
    "\n",
    "- $x_{n,t} \\in \\{0,1\\}$: equals 1 if **option $n$** is selected for **type $t$**, and 0 otherwise.\n"
   ]
  },
  {
   "cell_type": "code",
   "execution_count": null,
   "id": "707f9dc0",
   "metadata": {},
   "outputs": [],
   "source": [
    "model.x = pe.Var(model.n, model.t, within=pe.Binary)"
   ]
  },
  {
   "cell_type": "markdown",
   "id": "cead4f02",
   "metadata": {},
   "source": [
    "### Objective Function\n",
    "\n",
    "We **minimize total cost** of the chosen options:"
   ]
  },
  {
   "cell_type": "code",
   "execution_count": null,
   "id": "f6d33095",
   "metadata": {},
   "outputs": [],
   "source": [
    "def obj_rule(model):\n",
    "    return sum((model.c[n,t] + model.FC) * model.x[n,t] for n in model.n for t in model.t)\n",
    "model.total_cost = pe.Objective(rule=obj_rule, sense=pe.minimize)"
   ]
  },
  {
   "cell_type": "markdown",
   "id": "62d48406",
   "metadata": {},
   "source": [
    "### Constraints\n",
    "\n",
    "**(1) At most one option per aircraft type**\n",
    "\n",
    "**(2) Demand satisfaction via total capacity**"
   ]
  },
  {
   "cell_type": "code",
   "execution_count": null,
   "id": "aab19b39",
   "metadata": {},
   "outputs": [],
   "source": [
    "def one_choice_per_type_rule(model, t):\n",
    "    return sum(model.x[n,t] for n in model.n) <= 1\n",
    "model.one_choice_per_type = pe.Constraint(model.t, rule=one_choice_per_type_rule)\n",
    "\n",
    "def capacity_rule(model):\n",
    "    return sum(n * model.cap[t] * model.x[n,t] for n in model.n for t in model.t) >= model.P\n",
    "model.capacity_ok = pe.Constraint(rule=capacity_rule)"
   ]
  },
  {
   "cell_type": "markdown",
   "id": "cc81a4a4",
   "metadata": {},
   "source": [
    "### Solver definition and solve statement"
   ]
  },
  {
   "cell_type": "code",
   "execution_count": null,
   "id": "7c5260d7",
   "metadata": {},
   "outputs": [
    {
     "name": "stdout",
     "output_type": "stream",
     "text": [
      "Set parameter Username\n",
      "Set parameter LicenseID to value 2704768\n",
      "Academic license - for non-commercial use only - expires 2026-09-08\n",
      "Read LP format model from file /var/folders/pr/nst7vndn0l10vqp0s73wclhr0000gn/T/tmp3rsoyf8t.pyomo.lp\n",
      "Reading time = 0.00 seconds\n",
      "x1: 4 rows, 15 columns, 30 nonzeros\n",
      "Gurobi Optimizer version 12.0.3 build v12.0.3rc0 (mac64[arm] - Darwin 24.6.0 24G90)\n",
      "\n",
      "CPU model: Apple M2\n",
      "Thread count: 8 physical cores, 8 logical processors, using up to 8 threads\n",
      "\n",
      "Optimize a model with 4 rows, 15 columns and 30 nonzeros\n",
      "Model fingerprint: 0x9e6b927a\n",
      "Variable types: 0 continuous, 15 integer (15 binary)\n",
      "Coefficient statistics:\n",
      "  Matrix range     [1e+00, 4e+02]\n",
      "  Objective range  [1e+01, 6e+01]\n",
      "  Bounds range     [1e+00, 1e+00]\n",
      "  RHS range        [1e+00, 4e+02]\n",
      "Found heuristic solution: objective 60.0000000\n",
      "Presolve time: 0.00s\n",
      "Presolved: 4 rows, 15 columns, 30 nonzeros\n",
      "Variable types: 0 continuous, 15 integer (15 binary)\n",
      "\n",
      "Root relaxation: objective 5.296215e+01, 1 iterations, 0.00 seconds (0.00 work units)\n",
      "\n",
      "    Nodes    |    Current Node    |     Objective Bounds      |     Work\n",
      " Expl Unexpl |  Obj  Depth IntInf | Incumbent    BestBd   Gap | It/Node Time\n",
      "\n",
      "     0     0   52.96215    0    1   60.00000   52.96215  11.7%     -    0s\n",
      "H    0     0                      56.0000000   52.96215  5.42%     -    0s\n",
      "\n",
      "Cutting planes:\n",
      "  Cover: 1\n",
      "\n",
      "Explored 1 nodes (1 simplex iterations) in 0.01 seconds (0.00 work units)\n",
      "Thread count was 8 (of 8 available processors)\n",
      "\n",
      "Solution count 2: 56 60 \n",
      "\n",
      "Optimal solution found (tolerance 1.00e-04)\n",
      "Best objective 5.600000000000e+01, best bound 5.600000000000e+01, gap 0.0000%\n"
     ]
    }
   ],
   "source": [
    "solver = po.SolverFactory('gurobi')\n",
    "results = solver.solve(model, tee=True)"
   ]
  },
  {
   "cell_type": "markdown",
   "id": "d2f3f773",
   "metadata": {},
   "source": [
    "### Results\n",
    "\n",
    "We report:\n",
    "- **Optimal total cost** (`model.total_cost`), in k€.\n",
    "- **Selected number of airplanes per type** (derived from `x[n,t]`).\n",
    "- **Total capacity** vs **demand** to verify feasibility.\n",
    "\n",
    "The printed summary shows the chosen plan by aircraft type and the aggregate capacity check."
   ]
  }
 ],
 "metadata": {
  "kernelspec": {
   "display_name": "base",
   "language": "python",
   "name": "python3"
  },
  "language_info": {
   "codemirror_mode": {
    "name": "ipython",
    "version": 3
   },
   "file_extension": ".py",
   "mimetype": "text/x-python",
   "name": "python",
   "nbconvert_exporter": "python",
   "pygments_lexer": "ipython3",
   "version": "3.11.10"
  }
 },
 "nbformat": 4,
 "nbformat_minor": 5
}
