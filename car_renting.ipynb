{
 "cells": [
  {
   "cell_type": "markdown",
   "id": "a35b78fd",
   "metadata": {},
   "source": [
    "# Car Renting - Modelling"
   ]
  },
  {
   "cell_type": "markdown",
   "id": "2f788a46",
   "metadata": {},
   "source": [
    "## Autores:\n",
    "- Alejandro De Haro\n",
    "- Daniel Escobosa\n",
    "- Pablo Berastegui\n",
    "- Jose María Benitez"
   ]
  },
  {
   "cell_type": "markdown",
   "id": "ee9fc710",
   "metadata": {},
   "source": [
    "### Importing packages and modules"
   ]
  },
  {
   "cell_type": "code",
   "execution_count": 1,
   "id": "329b524d",
   "metadata": {},
   "outputs": [],
   "source": [
    "# module for building the pyomo model\n",
    "import pyomo.environ as pe\n",
    "# module for solving the pyomo model\n",
    "import pyomo.opt as po"
   ]
  },
  {
   "cell_type": "markdown",
   "id": "6a8d76b7",
   "metadata": {},
   "source": [
    "### Create the model"
   ]
  },
  {
   "cell_type": "code",
   "execution_count": 2,
   "id": "32898933",
   "metadata": {},
   "outputs": [],
   "source": [
    "model = pe.ConcreteModel() "
   ]
  },
  {
   "cell_type": "markdown",
   "id": "b0f5f5df",
   "metadata": {},
   "source": [
    "Order to build the model:\n",
    "1. Sets\n",
    "1. Parameters\n",
    "1. Variables\n",
    "1. Objective function\n",
    "1. Constraints"
   ]
  },
  {
   "cell_type": "markdown",
   "id": "6fe88898",
   "metadata": {},
   "source": [
    "#### Sets\n",
    "\n",
    "$car$: type of car $\\{A,B,C\\}$\n",
    "\n",
    "$c$: country $\\{\\mathrm{ES, FR, DE, AT, CH, IT}\\}$ (travel order)"
   ]
  },
  {
   "cell_type": "code",
   "execution_count": null,
   "id": "63be9c49",
   "metadata": {},
   "outputs": [
    {
     "name": "stdout",
     "output_type": "stream",
     "text": [
      "WARNING: DEPRECATED: Param 'prev_country' declared with an implicit domain of\n",
      "'Any'. The default domain for Param objects is 'Any'.  However, we will be\n",
      "changing that default to 'Reals' in the future.  If you really intend the\n",
      "domain of this Paramto be 'Any', you can suppress this warning by explicitly\n",
      "specifying 'within=Any' to the Param constructor.  (deprecated in 5.6.9, will\n",
      "be removed in (or after) 6.0) (called from\n",
      "/Users/descobosa/anaconda3/lib/python3.11/site-\n",
      "packages/pyomo/core/base/indexed_component.py:718)\n"
     ]
    }
   ],
   "source": [
    "# Ordered trip sequence\n",
    "country_seq = ['ES','FR','DE','AT','CH','IT']\n",
    "\n",
    "# Pyomo sets\n",
    "model.car = pe.Set(initialize=['A','B','C'])\n",
    "model.country = pe.Set(initialize=country_seq)\n",
    "model.country_after_first = pe.Set(initialize=country_seq[1:])\n",
    "\n",
    "prev_map = {'FR':'ES','DE':'FR','AT':'DE','CH':'AT','IT':'CH'}\n",
    "model.prev_country = pe.Param(model.country_after_first, initialize=prev_map)"
   ]
  },
  {
   "cell_type": "markdown",
   "id": "3b7bb008",
   "metadata": {},
   "source": [
    "#### Parameters"
   ]
  },
  {
   "cell_type": "markdown",
   "id": "9347ec0d",
   "metadata": {},
   "source": [
    "$FC_{car,c}$: fuel (travel) cost of using car **car** in country **c** \\[€\\]\n",
    "\n",
    "$FEE$: additional paperwork cost per **change of vehicle** between consecutive countries \\[€\\]"
   ]
  },
  {
   "cell_type": "code",
   "execution_count": null,
   "id": "2ceb60e8",
   "metadata": {},
   "outputs": [],
   "source": [
    "# Fuel cost table from the statement (in €)\n",
    "data = {\n",
    "    ('A','ES'):160, ('A','FR'):210, ('A','DE'):180, ('A','AT'):110, ('A','CH'):85,  ('A','IT'):170,\n",
    "    ('B','ES'):120, ('B','FR'):240, ('B','DE'):165, ('B','AT'):135, ('B','CH'):100, ('B','IT'):160,\n",
    "    ('C','ES'):150, ('C','FR'):200, ('C','DE'):175, ('C','AT'):140, ('C','CH'):115, ('C','IT'):135,\n",
    "}\n",
    "\n",
    "model.FC = pe.Param(model.car, model.country, initialize=data)\n",
    "FEE_value = 25  \n",
    "model.FEE = pe.Param(initialize=FEE_value)"
   ]
  },
  {
   "cell_type": "markdown",
   "id": "7574a212",
   "metadata": {},
   "source": [
    "#### Variables\n",
    "\n",
    "$u_{car,c} \\in \\{0,1\\}$: 1 if car **car** is used in country **c**, 0 otherwise\n",
    "\n",
    "$y_c \\in \\{0,1\\}$: 1 if there is a **change of vehicle** when entering country **c** (for $c \\ne \\mathrm{ES}$)"
   ]
  },
  {
   "cell_type": "code",
   "execution_count": null,
   "id": "736218a6",
   "metadata": {},
   "outputs": [],
   "source": [
    "model.use = pe.Var(model.car, model.country, within=pe.Binary)\n",
    "model.change = pe.Var(model.country_after_first, within=pe.Binary)"
   ]
  },
  {
   "cell_type": "markdown",
   "id": "142250cb",
   "metadata": {},
   "source": [
    "#### Objective Function\n",
    "\n",
    "Minimize total cost = travel fuel cost + change fees\n",
    "\n",
    "$$\\min \\sum_{c} \\left( \\sum_{car} FC_{car,c}\\,u_{car,c} \\right)\\;+\\;\\sum_{c \\ne ES} FEE \\cdot y_c$$"
   ]
  },
  {
   "cell_type": "code",
   "execution_count": 6,
   "id": "fbffa47c",
   "metadata": {},
   "outputs": [],
   "source": [
    "def obj_rule(model):\n",
    "    fuel_cost = sum(model.FC[car,c] * model.use[car,c] for car in model.car for c in model.country)\n",
    "    change_cost = sum(model.FEE * model.change[c] for c in model.country_after_first)\n",
    "    return fuel_cost + change_cost\n",
    "\n",
    "model.total_cost = pe.Objective(rule=obj_rule, sense=pe.minimize)"
   ]
  },
  {
   "cell_type": "markdown",
   "id": "76a0bf99",
   "metadata": {},
   "source": [
    "#### Constraints"
   ]
  },
  {
   "cell_type": "markdown",
   "id": "80852091",
   "metadata": {},
   "source": [
    "Constraint #1: **Use exactly one car per country**\n",
    "\n",
    "$$\\sum_{car} u_{car,c} = 1 \\quad \\forall c$$"
   ]
  },
  {
   "cell_type": "code",
   "execution_count": 7,
   "id": "63474a77",
   "metadata": {},
   "outputs": [],
   "source": [
    "model.one_car_per_country = pe.ConstraintList()\n",
    "for c in model.country:\n",
    "    model.one_car_per_country.add( sum(model.use[car,c] for car in model.car) == 1 )"
   ]
  },
  {
   "cell_type": "markdown",
   "id": "129456ad",
   "metadata": {},
   "source": [
    "Constraint #2: **Change indicator is activated when the chosen car differs from the previous country**\n",
    "\n",
    "For every car and country $c \\ne ES$:\n",
    "$$u_{car,c} - u_{car,prev(c)} \\le y_c$$\n",
    "\n",
    "This forces $y_c=1$ whenever the new chosen car at $c$ wasn't chosen in the previous country. "
   ]
  },
  {
   "cell_type": "code",
   "execution_count": 8,
   "id": "0e586f5d",
   "metadata": {},
   "outputs": [],
   "source": [
    "model.change_linking = pe.ConstraintList()\n",
    "for c in model.country_after_first:\n",
    "    prev_c = model.prev_country[c]\n",
    "    for car in model.car:\n",
    "        model.change_linking.add( model.use[car,c] - model.use[car,prev_c] <= model.change[c] )"
   ]
  },
  {
   "cell_type": "markdown",
   "id": "c92ed317",
   "metadata": {},
   "source": [
    "#### Solver definition and solve statement"
   ]
  },
  {
   "cell_type": "code",
   "execution_count": null,
   "id": "f2b0c1be",
   "metadata": {},
   "outputs": [
    {
     "name": "stdout",
     "output_type": "stream",
     "text": [
      "Set parameter Username\n",
      "Set parameter LicenseID to value 2704768\n",
      "Academic license - for non-commercial use only - expires 2026-09-08\n",
      "Read LP format model from file /var/folders/pr/nst7vndn0l10vqp0s73wclhr0000gn/T/tmp89jzk_dz.pyomo.lp\n",
      "Reading time = 0.00 seconds\n",
      "x1: 21 rows, 23 columns, 63 nonzeros\n",
      "Gurobi Optimizer version 12.0.3 build v12.0.3rc0 (mac64[arm] - Darwin 24.6.0 24G90)\n",
      "\n",
      "CPU model: Apple M2\n",
      "Thread count: 8 physical cores, 8 logical processors, using up to 8 threads\n",
      "\n",
      "Optimize a model with 21 rows, 23 columns and 63 nonzeros\n",
      "Model fingerprint: 0xdd5658cd\n",
      "Variable types: 0 continuous, 23 integer (23 binary)\n",
      "Coefficient statistics:\n",
      "  Matrix range     [1e+00, 1e+00]\n",
      "  Objective range  [2e+01, 2e+02]\n",
      "  Bounds range     [1e+00, 1e+00]\n",
      "  RHS range        [1e+00, 1e+00]\n",
      "Found heuristic solution: objective 975.0000000\n",
      "Presolve removed 0 rows and 1 columns\n",
      "Presolve time: 0.00s\n",
      "Presolved: 21 rows, 22 columns, 63 nonzeros\n",
      "Variable types: 0 continuous, 22 integer (22 binary)\n",
      "\n",
      "Root relaxation: objective 8.812500e+02, 12 iterations, 0.00 seconds (0.00 work units)\n",
      "\n",
      "    Nodes    |    Current Node    |     Objective Bounds      |     Work\n",
      " Expl Unexpl |  Obj  Depth IntInf | Incumbent    BestBd   Gap | It/Node Time\n",
      "\n",
      "     0     0  881.25000    0    7  975.00000  881.25000  9.62%     -    0s\n",
      "H    0     0                     905.0000000  881.25000  2.62%     -    0s\n",
      "H    0     0                     890.0000000  881.25000  0.98%     -    0s\n",
      "\n",
      "Explored 1 nodes (12 simplex iterations) in 0.01 seconds (0.00 work units)\n",
      "Thread count was 8 (of 8 available processors)\n",
      "\n",
      "Solution count 3: 890 905 975 \n",
      "\n",
      "Optimal solution found (tolerance 1.00e-04)\n",
      "Best objective 8.900000000000e+02, best bound 8.900000000000e+02, gap 0.0000%\n"
     ]
    }
   ],
   "source": [
    "solver = po.SolverFactory('gurobi')\n",
    "results = solver.solve(model, tee=True)"
   ]
  },
  {
   "cell_type": "code",
   "execution_count": 10,
   "id": "e089841a",
   "metadata": {},
   "outputs": [
    {
     "name": "stdout",
     "output_type": "stream",
     "text": [
      "890.0\n"
     ]
    }
   ],
   "source": [
    "# Total optimal cost\n",
    "print(round(pe.value(model.total_cost),2))"
   ]
  },
  {
   "cell_type": "code",
   "execution_count": 11,
   "id": "de6374ff",
   "metadata": {},
   "outputs": [
    {
     "name": "stdout",
     "output_type": "stream",
     "text": [
      "Country ES: use car B\n",
      "Country FR: use car A\n",
      "Country DE: use car A\n",
      "Country AT: use car A\n",
      "Country CH: use car A\n",
      "Country IT: use car C\n"
     ]
    }
   ],
   "source": [
    "# Chosen car per country\n",
    "for c in country_seq:\n",
    "    chosen = [car for car in model.car if pe.value(model.use[car,c]) > 0.5][0]\n",
    "    print(f'Country {c}: use car {chosen}')"
   ]
  },
  {
   "cell_type": "code",
   "execution_count": 12,
   "id": "9433f917",
   "metadata": {},
   "outputs": [
    {
     "name": "stdout",
     "output_type": "stream",
     "text": [
      "Change occurs when entering FR\n",
      "Change occurs when entering IT\n",
      "Total changes: 2\n"
     ]
    }
   ],
   "source": [
    "# Number of changes and where they occur\n",
    "num_changes = 0\n",
    "for c in country_seq[1:]:\n",
    "    if pe.value(model.change[c]) > 0.5:\n",
    "        num_changes += 1\n",
    "        print(f'Change occurs when entering {c}')\n",
    "print(f'Total changes: {num_changes}')"
   ]
  }
 ],
 "metadata": {
  "kernelspec": {
   "display_name": "base",
   "language": "python",
   "name": "python3"
  },
  "language_info": {
   "codemirror_mode": {
    "name": "ipython",
    "version": 3
   },
   "file_extension": ".py",
   "mimetype": "text/x-python",
   "name": "python",
   "nbconvert_exporter": "python",
   "pygments_lexer": "ipython3",
   "version": "3.11.4"
  }
 },
 "nbformat": 4,
 "nbformat_minor": 5
}
