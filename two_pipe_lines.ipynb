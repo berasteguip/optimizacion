{
 "cells": [
  {
   "cell_type": "markdown",
   "metadata": {},
   "source": [
    "## Two Pipe Lines - Modelling"
   ]
  },
  {
   "cell_type": "markdown",
   "metadata": {},
   "source": [
    "#### José María Benítez, Pablo Berástegui, Daniel Escobosa y Alejandro de Haro"
   ]
  },
  {
   "cell_type": "markdown",
   "metadata": {},
   "source": [
    "### Importing packages and modules"
   ]
  },
  {
   "cell_type": "code",
   "execution_count": 10,
   "metadata": {},
   "outputs": [],
   "source": [
    "import pyomo.environ as pe\n",
    "import pyomo.opt as po"
   ]
  },
  {
   "cell_type": "markdown",
   "metadata": {},
   "source": [
    "### Create the model"
   ]
  },
  {
   "cell_type": "code",
   "execution_count": 11,
   "metadata": {},
   "outputs": [],
   "source": [
    "model = pe.ConcreteModel()"
   ]
  },
  {
   "cell_type": "markdown",
   "metadata": {},
   "source": [
    "$ \\mathcal{N} $: network nodes ${A,B,C,D,E,F,G,P1,P2}$\n",
    "\n",
    "$ \\mathcal{R} $: refineries ${A,B,C,D,E,F,G}$\n",
    "\n",
    "$ \\mathcal{P} $: pipelines ${P1,P2}$\n",
    "\n",
    "$ \\mathcal{E}_{RR} $: arcs (connections) between refineries $\\subseteq \\mathcal{R}\\times\\mathcal{R}$\n",
    "\n",
    "$ \\mathcal{E}_{PR} $: possible pipeline–refinery pairs $=\\mathcal{P}\\times\\mathcal{R}$\n",
    "\n",
    "$ \\mathcal{N}(r) $: neighbors of refinery $r$ in $\\mathcal{E}_{RR}$"
   ]
  },
  {
   "cell_type": "code",
   "execution_count": 12,
   "metadata": {},
   "outputs": [],
   "source": [
    "model.N  = pe.Set(initialize=['A','B','C','D','E','F','G','P1','P2'])\n",
    "model.R  = pe.Set(initialize=['A','B','C','D','E','F','G'])\n",
    "model.P  = pe.Set(initialize=['P1','P2'])\n",
    "\n",
    "base_caps = {\n",
    "    ('A','B'):600, ('B','C'):700, ('C','D'):700, ('D','E'):650,\n",
    "    ('E','F'):550, ('F','A'):700, ('A','G'):850, ('B','G'):950,\n",
    "    ('C','G'):600, ('D','G'):550, ('E','G'):700, ('F','G'):650\n",
    "}\n",
    "\n",
    "RR = []\n",
    "for i,j in base_caps:\n",
    "    RR.append((i,j))\n",
    "    RR.append((j,i))\n",
    "model.E_RR = pe.Set(dimen=2, initialize=RR)"
   ]
  },
  {
   "cell_type": "markdown",
   "metadata": {},
   "source": [
    "#### Parameters"
   ]
  },
  {
   "cell_type": "markdown",
   "metadata": {},
   "source": [
    "$ Q_{ij} $: available capacity on arc $(i,j)\\in\\mathcal{E}_{RR}$ $[\\ell/s]$\n",
    "\n",
    "$ D_{r} $: contracted demand at refinery $r\\in\\mathcal{R}$ $[\\ell/s]$\n",
    "\n",
    "$ PD_{r} $: penalty of unmet demand at refinery $r$ $[/€(\\ell/s)]$\n",
    "\n",
    "$ S_{p} $: supply capacity of pipeline $p\\in\\mathcal{P}$ $[\\ell/s]$"
   ]
  },
  {
   "cell_type": "code",
   "execution_count": 13,
   "metadata": {},
   "outputs": [],
   "source": [
    "def Q_init(m,i,j):\n",
    "    if (i,j) in base_caps:\n",
    "        return base_caps[(i,j)]\n",
    "    return base_caps[(j,i)]\n",
    "model.Q = pe.Param(model.E_RR, initialize=Q_init, within=pe.NonNegativeReals)\n",
    "model.E_PR = pe.Set(dimen=2, initialize=[(p,r) for p in model.P for r in model.R])\n",
    "\n",
    "D_data  = {r:1200 for r in model.R}\n",
    "PD_data = {r:1.0  for r in model.R}\n",
    "S_data  = {'P1':1500,'P2':1500}\n",
    "\n",
    "model.D  = pe.Param(model.R, initialize=D_data, within=pe.NonNegativeReals)\n",
    "model.PD = pe.Param(model.R, initialize=PD_data, within=pe.NonNegativeReals)\n",
    "model.S  = pe.Param(model.P, initialize=S_data,  within=pe.NonNegativeReals)"
   ]
  },
  {
   "cell_type": "markdown",
   "metadata": {},
   "source": [
    "#### Variables"
   ]
  },
  {
   "cell_type": "markdown",
   "metadata": {},
   "source": [
    "$ x_{ij}\\ge 0 $: flow from refinery $i$ to $j$, $(i,j)\\in\\mathcal{E}_{RR}$ $[\\ell/s]$\n",
    "\n",
    "$ x_{pr}\\ge 0 $: flow from pipeline $p$ to refinery $r$, $(p,r)\\in\\mathcal{E}_{PR}$ $[\\ell/s]$\n",
    "\n",
    "$ nsd_{r}\\ge 0 $: non-served demand at refinery $r\\in\\mathcal{R}$ $[\\ell/s]$\n",
    "\n",
    "$ u_{pr}\\in{0,1} $: $1$ if pipeline $p$ connects to refinery $r$, $(p,r)\\in\\mathcal{E}_{PR}$"
   ]
  },
  {
   "cell_type": "code",
   "execution_count": 14,
   "metadata": {},
   "outputs": [],
   "source": [
    "model.x   = pe.Var(model.E_RR, domain=pe.NonNegativeReals)\n",
    "model.xpr = pe.Var(model.E_PR, domain=pe.NonNegativeReals)\n",
    "model.nsd = pe.Var(model.R,    domain=pe.NonNegativeReals)\n",
    "model.u   = pe.Var(model.E_PR, domain=pe.Binary)"
   ]
  },
  {
   "cell_type": "markdown",
   "metadata": {},
   "source": [
    "#### Objective Function"
   ]
  },
  {
   "cell_type": "markdown",
   "metadata": {},
   "source": [
    "$ \\min Z = \\sum_{r\\in\\mathcal{R}} PD_{r}; nsd_{r} $"
   ]
  },
  {
   "cell_type": "code",
   "execution_count": 15,
   "metadata": {},
   "outputs": [],
   "source": [
    "def obj_rule(m):\n",
    "    return sum(m.PD[r]*m.nsd[r] for r in m.R)\n",
    "model.OBJ = pe.Objective(rule=obj_rule, sense=pe.minimize)"
   ]
  },
  {
   "cell_type": "markdown",
   "metadata": {},
   "source": [
    "#### Constraints"
   ]
  },
  {
   "cell_type": "markdown",
   "metadata": {},
   "source": [
    "Balance in refinery $\\forall r\\in\\mathcal{R}$:\n",
    "$ \\sum_{(i,r)\\in\\mathcal{E}{RR}} x{ir} + \\sum_{p\\in\\mathcal{P}} x_{pr} - \\sum_{(r,j)\\in\\mathcal{E}{RR}} x{rj} = D_r - nsd_r $\n",
    "\n",
    "Arc capacity $\\forall (i,j)\\in\\mathcal{E}{RR}$:\n",
    "$ x{ij} \\le Q_{ij} $\n",
    "\n",
    "Pipeline supply capacity $\\forall (p,r)\\in\\mathcal{E}{PR}$:\n",
    "$ x{pr} \\le S_p , u_{pr} $\n",
    "\n",
    "Each pipeline connects to at most one refinery $\\forall p\\in\\mathcal{P}$:\n",
    "$ \\sum_{r\\in\\mathcal{R}} u_{pr} \\le 1 $\n",
    "\n",
    "No two pipelines can connect to adjacent refineries $\\forall r\\in\\mathcal{R},;\\forall p\\neq p'\\in\\mathcal{P}$:\n",
    "$ u_{pr} + \\sum_{r'\\in\\mathcal{N}(r)} u_{p'r'} \\le 1 $\n",
    "\n",
    "Non-served demand bounded $\\forall r\\in\\mathcal{R}$:\n",
    "$ nsd_r \\le D_r $\n",
    "\n",
    "Domain restrictions:\n",
    "$ x_{ij}\\ge 0,; x_{pr}\\ge 0,; nsd_r\\ge 0,; u_{pr}\\in{0,1} $"
   ]
  },
  {
   "cell_type": "code",
   "execution_count": 16,
   "metadata": {},
   "outputs": [],
   "source": [
    "def cap_rr_rule(m,i,j):\n",
    "    return m.x[i,j] <= m.Q[i,j]\n",
    "model.Cap_RR = pe.Constraint(model.E_RR, rule=cap_rr_rule)\n",
    "\n",
    "def cap_pr_rule(m,p,r):\n",
    "    return m.xpr[p,r] <= m.S[p]*m.u[p,r]\n",
    "model.Cap_PR = pe.Constraint(model.E_PR, rule=cap_pr_rule)\n",
    "\n",
    "def bal_rule(m,r):\n",
    "    inflow_rr = sum(m.x[i,r] for (i,rr) in m.E_RR if rr==r)\n",
    "    inflow_p  = sum(m.xpr[p,r] for p in m.P)\n",
    "    out_rr    = sum(m.x[r,j] for (rr,j) in m.E_RR if rr==r)\n",
    "    return inflow_rr + inflow_p - out_rr == m.D[r] - m.nsd[r]\n",
    "model.Balance = pe.Constraint(model.R, rule=bal_rule)\n",
    "\n",
    "def single_conn_rule(m,p):\n",
    "    return sum(m.u[p,r] for r in m.R) <= 1\n",
    "model.SingleConn = pe.Constraint(model.P, rule=single_conn_rule)\n",
    "\n",
    "def no_adjacent_rule(m,p,r):\n",
    "    return pe.inequality(0, m.u[p,r] + sum(m.u[pp,rp] for pp in m.P if pp!=p for (ra,rb) in m.E_RR for rp in [rb] if ra==r), 1)\n",
    "model.NoAdjacent = pe.Constraint(model.P, model.R, rule=no_adjacent_rule)\n",
    "\n",
    "def max_nsd_rule(m,r):\n",
    "    return m.nsd[r] <= m.D[r]\n",
    "model.MaxNSD = pe.Constraint(model.R, rule=max_nsd_rule)"
   ]
  },
  {
   "cell_type": "markdown",
   "metadata": {},
   "source": [
    "#### Solver definition and solve statement"
   ]
  },
  {
   "cell_type": "code",
   "execution_count": 17,
   "metadata": {},
   "outputs": [
    {
     "data": {
      "text/plain": [
       "{'Problem': [{'Name': 'x1', 'Lower bound': 5400.0, 'Upper bound': 5400.0, 'Number of objectives': 1, 'Number of constraints': 82, 'Number of variables': 59, 'Number of binary variables': 14, 'Number of integer variables': 14, 'Number of continuous variables': 45, 'Number of nonzeros': 266, 'Sense': 'minimize'}], 'Solver': [{'Status': 'ok', 'Return code': '0', 'Message': 'Model was solved to optimality (subject to tolerances), and an optimal solution is available.', 'Termination condition': 'optimal', 'Termination message': 'Model was solved to optimality (subject to tolerances), and an optimal solution is available.', 'Wall time': '0.006000041961669922', 'Error rc': 0, 'Time': 0.24863815307617188}], 'Solution': [OrderedDict([('number of solutions', 0), ('number of solutions displayed', 0)])]}"
      ]
     },
     "execution_count": 17,
     "metadata": {},
     "output_type": "execute_result"
    }
   ],
   "source": [
    "solver = po.SolverFactory('gurobi')\n",
    "solver.solve(model, tee=False)"
   ]
  },
  {
   "cell_type": "markdown",
   "metadata": {},
   "source": [
    "#### Results"
   ]
  },
  {
   "cell_type": "code",
   "execution_count": 18,
   "metadata": {},
   "outputs": [
    {
     "name": "stdout",
     "output_type": "stream",
     "text": [
      "OBJ = 5400.0\n",
      "\n",
      "Flujos entre refinerías (x[i,j])\n",
      "B -> A : 350.0\n",
      "B -> C : 700.0\n",
      "C -> B : 100.0\n",
      "C -> D : 700.0\n",
      "E -> D : 550.0\n",
      "E -> F : 550.0\n",
      "A -> F : 700.0\n",
      "G -> A : 350.0\n",
      "G -> B : 950.0\n",
      "G -> C : 600.0\n",
      "D -> G : 550.0\n",
      "E -> G : 700.0\n",
      "F -> G : 650.0\n",
      "\n",
      "Flujos de oleoducto a refinería (xpr[p,r])\n",
      "P1 -> E : 1500.0\n",
      "P2 -> E : 1500.0\n",
      "\n",
      "Conexiones activas de oleoductos (u[p,r])\n",
      "P1 -> E\n",
      "P2 -> E\n",
      "\n",
      "Demanda no servida por refinería (nsd[r])\n",
      "A : 1200.0\n",
      "B : 1200.0\n",
      "C : 700.0\n",
      "D : 500.0\n",
      "E : 0.0\n",
      "F : 600.0\n",
      "G : 1200.0\n"
     ]
    }
   ],
   "source": [
    "print('OBJ =', pe.value(model.OBJ))\n",
    "\n",
    "print('\\nFlujos entre refinerías (x[i,j])')\n",
    "for i,j in model.E_RR:\n",
    "    v = model.x[i,j].value\n",
    "    if v and v>1e-6:\n",
    "        print(i,'->',j,':',v)\n",
    "\n",
    "print('\\nFlujos de oleoducto a refinería (xpr[p,r])')\n",
    "for p,r in model.E_PR:\n",
    "    v = model.xpr[p,r].value\n",
    "    if v and v>1e-6:\n",
    "        print(p,'->',r,':',v)\n",
    "\n",
    "print('\\nConexiones activas de oleoductos (u[p,r])')\n",
    "for p in model.P:\n",
    "    for r in model.R:\n",
    "        if model.u[p,r].value > 0.5:\n",
    "            print(p,'->',r)\n",
    "\n",
    "print('\\nDemanda no servida por refinería (nsd[r])')\n",
    "for r in model.R:\n",
    "    print(r,':',model.nsd[r].value)\n"
   ]
  }
 ],
 "metadata": {
  "kernelspec": {
   "display_name": "base",
   "language": "python",
   "name": "python3"
  },
  "language_info": {
   "codemirror_mode": {
    "name": "ipython",
    "version": 3
   },
   "file_extension": ".py",
   "mimetype": "text/x-python",
   "name": "python",
   "nbconvert_exporter": "python",
   "pygments_lexer": "ipython3",
   "version": "3.11.4"
  }
 },
 "nbformat": 4,
 "nbformat_minor": 2
}
